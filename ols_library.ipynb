{
 "cells": [
  {
   "cell_type": "code",
   "execution_count": 7,
   "id": "124cc2e4",
   "metadata": {},
   "outputs": [],
   "source": [
    "#@title (Hidden) Diagnostic Check\n",
    "import os\n",
    "import sys\n",
    "import pandas as pd\n",
    "import numpy as np\n",
    "import statsmodels\n",
    "import statsmodels.api as sm\n",
    "import statsmodels.formula.api as smf\n",
    "import matplotlib\n",
    "import matplotlib.pyplot as plt\n",
    "import seaborn as sns\n",
    "import scipy.stats as stats"
   ]
  },
  {
   "cell_type": "code",
   "execution_count": 79,
   "id": "18ca40af",
   "metadata": {},
   "outputs": [],
   "source": [
    "class OLS:\n",
    "    def __init__(self, data, yname,xname):\n",
    "        self.yname = yname\n",
    "        self.y = data[yname]\n",
    "        self.xname = xname\n",
    "        self.x = data[xname]\n",
    "        model_description = yname + '~' + xname\n",
    "        self.data = data\n",
    "        self.model = smf.ols(model_description, data = data)\n",
    "        self.results = self.model.fit()\n",
    "        self.beta_hat = self.results.params\n",
    "        self.y_hat = self.results.predict()\n",
    "        self.residuals = self.results.resid\n",
    "\n",
    "    def scatter(self):\n",
    "        plt.clf()\n",
    "        sns.scatterplot(data=self.data,  x=self.xname, y=self.yname)\n",
    "        \n",
    "    def summary(self):\n",
    "        display(self.results.summary())\n",
    "        \n",
    "    def anova(self):\n",
    "        display(statsmodels.stats.anova.anova_lm(self.results))\n",
    "        \n",
    "    def plot_fitted(self,x=None, y=None):\n",
    "        if x is None:\n",
    "            x = self.x\n",
    "        if y is None:\n",
    "            y = self.y\n",
    "        plt.clf()\n",
    "        plt.scatter(x, y,  color='black', zorder = 2)\n",
    "        plt.plot(x, self.y_hat, color='blue', linewidth = 3, zorder = 3)\n",
    "        plt.xlabel(r'$x$')\n",
    "        plt.ylabel(r'$y$')\n",
    "        plt.title(rf\"Estimated values for $\\beta_0 = {self.beta_hat[0]:.04f}, \\beta_1 = {self.beta_hat[1]:.04f}$ \")\n",
    "        plt.suptitle('Linear Regression')\n",
    "        plt.show()\n",
    "        \n",
    "    def plot_hist(self):\n",
    "        plt.clf()\n",
    "        sns.histplot(self.residuals)\n",
    "        \n",
    "    def plot_x_residual(self):\n",
    "        plt.clf()\n",
    "        x = self.x\n",
    "        plt.scatter(x, self.residuals)\n",
    "        plt.axhline(y = 0, color = 'r', linestyle = '-')\n",
    "        plt.xlabel(r'$x$')\n",
    "        plt.ylabel('Residuals')\n",
    "        plt.title(\"Comparing residuals against covariate\")\n",
    "        plt.show()\n",
    "        \n",
    "    def plot_yhat_residual(self):\n",
    "        plt.clf()\n",
    "        yhat = self.y_hat\n",
    "        plt.scatter(yhat, self.residuals)\n",
    "        plt.axhline(y = 0, color = 'r', linestyle = '-')\n",
    "        plt.xlabel(r'$fitted values$')\n",
    "        plt.ylabel('Residuals')\n",
    "        plt.title(\"Comparing residuals against fitted values\")\n",
    "        plt.show()"
   ]
  },
  {
   "cell_type": "code",
   "execution_count": 80,
   "id": "9143000f",
   "metadata": {},
   "outputs": [],
   "source": [
    "data = pd.read_csv('https://raw.githubusercontent.com/ciaran-evans/bryozoan-data-paper/master/bryozoan_data_fixed.csv')\n",
    "xname = \"Mass\"\n",
    "yname = \"Metabolic\"\n",
    "\n",
    "olsmod = OLS(data,yname,xname)"
   ]
  },
  {
   "cell_type": "code",
   "execution_count": 78,
   "id": "bea76420",
   "metadata": {},
   "outputs": [],
   "source": [
    "#olsmod.scatter()\n",
    "#olsmod.summary()\n",
    "#olsmod.anova()\n",
    "#olsmod.plot_fitted()\n",
    "#olsmod.plot_hist()\n",
    "#olsmod.plot_x_residual()\n",
    "#olsmod.plot_yhat_residual()"
   ]
  },
  {
   "cell_type": "code",
   "execution_count": null,
   "id": "cbec96c2",
   "metadata": {},
   "outputs": [],
   "source": []
  }
 ],
 "metadata": {
  "kernelspec": {
   "display_name": "Python 3 (ipykernel)",
   "language": "python",
   "name": "python3"
  },
  "language_info": {
   "codemirror_mode": {
    "name": "ipython",
    "version": 3
   },
   "file_extension": ".py",
   "mimetype": "text/x-python",
   "name": "python",
   "nbconvert_exporter": "python",
   "pygments_lexer": "ipython3",
   "version": "3.8.3"
  }
 },
 "nbformat": 4,
 "nbformat_minor": 5
}
