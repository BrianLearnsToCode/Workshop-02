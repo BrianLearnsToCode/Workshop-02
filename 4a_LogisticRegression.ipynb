{
 "cells": [
  {
   "cell_type": "markdown",
   "metadata": {},
   "source": [
    "<img src=\"images/Picture0.png\" width=200x />\n",
    "\n",
    "# Notebook 04a - Logistic Regression\n",
    "\n",
    "## Instructions\n",
    "...\n",
    "\n",
    "## Pre-requisites\n",
    "...\n",
    "\n",
    "## Credits\n",
    "...\n"
   ]
  },
  {
   "cell_type": "markdown",
   "metadata": {
    "id": "1jFuHSWgc9f5"
   },
   "source": [
    "## If you are using Colab, save a copy of this notebook!!\n",
    "\n",
    "Before we get started, it is crucially important that you **save a copy of the notebook** to a local folder if you are accessing this notebook in Google Colab! Please go to:\n",
    "\n",
    "```\n",
    "File -> Make a copy\n",
    "```\n"
   ]
  },
  {
   "cell_type": "markdown",
   "metadata": {
    "id": "JZWYFcmOdEJg"
   },
   "source": [
    "This notebook follows along with the notes found [here](https://drive.google.com/file/d/1ZgX5y6orJboHUCw0w1jHzpMH9V6GaV41/view?usp=sharing).\n"
   ]
  },
  {
   "cell_type": "code",
   "execution_count": null,
   "metadata": {
    "id": "Hdm8VDb5VWSj"
   },
   "outputs": [],
   "source": [
    "#@title (Hidden) Diagnostic Check\n",
    "import os\n",
    "import sys\n",
    "import pandas as pd\n",
    "import numpy as np\n",
    "import statsmodels\n",
    "import statsmodels.api as sm\n",
    "import statsmodels.formula.api as smf\n",
    "import matplotlib\n",
    "import matplotlib.pyplot as plt\n",
    "import seaborn as sns\n",
    "import scipy.stats as stats"
   ]
  },
  {
   "cell_type": "markdown",
   "metadata": {
    "id": "kffjRXCZoFw3"
   },
   "source": [
    "This notebook follows along with the notes found [here](https://docs.google.com/presentation/d/184uAU5ZRsZEqP7_pEu4POpcAr57CkQfZJtUVBkryFbQ/edit?usp=sharing).\n",
    "Filled in version [here](https://drive.google.com/file/d/1ZoooJtT_FZj5qIIFk4qZQK8N6DP5vFEk/view?usp=sharing)."
   ]
  },
  {
   "cell_type": "code",
   "execution_count": null,
   "metadata": {
    "colab": {
     "base_uri": "https://localhost:8080/",
     "height": 424
    },
    "executionInfo": {
     "elapsed": 526,
     "status": "ok",
     "timestamp": 1690380919522,
     "user": {
      "displayName": "Sara Stoudt",
      "userId": "03438098334645453392"
     },
     "user_tz": 240
    },
    "id": "1elNEDolWZDo",
    "outputId": "4002a8ce-538f-494a-fb65-123cc4b90f08"
   },
   "outputs": [
    {
     "data": {
      "text/html": [
       "\n",
       "\n",
       "  <div id=\"df-f774590c-4d6f-4f90-a802-9f529340352a\">\n",
       "    <div class=\"colab-df-container\">\n",
       "      <div>\n",
       "<style scoped>\n",
       "    .dataframe tbody tr th:only-of-type {\n",
       "        vertical-align: middle;\n",
       "    }\n",
       "\n",
       "    .dataframe tbody tr th {\n",
       "        vertical-align: top;\n",
       "    }\n",
       "\n",
       "    .dataframe thead th {\n",
       "        text-align: right;\n",
       "    }\n",
       "</style>\n",
       "<table border=\"1\" class=\"dataframe\">\n",
       "  <thead>\n",
       "    <tr style=\"text-align: right;\">\n",
       "      <th></th>\n",
       "      <th>switch</th>\n",
       "      <th>arsenic</th>\n",
       "      <th>dist</th>\n",
       "      <th>dist100</th>\n",
       "      <th>assoc</th>\n",
       "      <th>educ</th>\n",
       "      <th>educ4</th>\n",
       "    </tr>\n",
       "  </thead>\n",
       "  <tbody>\n",
       "    <tr>\n",
       "      <th>0</th>\n",
       "      <td>1</td>\n",
       "      <td>2.36</td>\n",
       "      <td>16.826000</td>\n",
       "      <td>0.16826</td>\n",
       "      <td>0</td>\n",
       "      <td>0</td>\n",
       "      <td>0.00</td>\n",
       "    </tr>\n",
       "    <tr>\n",
       "      <th>1</th>\n",
       "      <td>1</td>\n",
       "      <td>0.71</td>\n",
       "      <td>47.321999</td>\n",
       "      <td>0.47322</td>\n",
       "      <td>0</td>\n",
       "      <td>0</td>\n",
       "      <td>0.00</td>\n",
       "    </tr>\n",
       "    <tr>\n",
       "      <th>2</th>\n",
       "      <td>0</td>\n",
       "      <td>2.07</td>\n",
       "      <td>20.966999</td>\n",
       "      <td>0.20967</td>\n",
       "      <td>0</td>\n",
       "      <td>10</td>\n",
       "      <td>2.50</td>\n",
       "    </tr>\n",
       "    <tr>\n",
       "      <th>3</th>\n",
       "      <td>1</td>\n",
       "      <td>1.15</td>\n",
       "      <td>21.486000</td>\n",
       "      <td>0.21486</td>\n",
       "      <td>0</td>\n",
       "      <td>12</td>\n",
       "      <td>3.00</td>\n",
       "    </tr>\n",
       "    <tr>\n",
       "      <th>4</th>\n",
       "      <td>1</td>\n",
       "      <td>1.10</td>\n",
       "      <td>40.874001</td>\n",
       "      <td>0.40874</td>\n",
       "      <td>1</td>\n",
       "      <td>14</td>\n",
       "      <td>3.50</td>\n",
       "    </tr>\n",
       "    <tr>\n",
       "      <th>...</th>\n",
       "      <td>...</td>\n",
       "      <td>...</td>\n",
       "      <td>...</td>\n",
       "      <td>...</td>\n",
       "      <td>...</td>\n",
       "      <td>...</td>\n",
       "      <td>...</td>\n",
       "    </tr>\n",
       "    <tr>\n",
       "      <th>3015</th>\n",
       "      <td>0</td>\n",
       "      <td>0.52</td>\n",
       "      <td>19.347000</td>\n",
       "      <td>0.19347</td>\n",
       "      <td>1</td>\n",
       "      <td>5</td>\n",
       "      <td>1.25</td>\n",
       "    </tr>\n",
       "    <tr>\n",
       "      <th>3016</th>\n",
       "      <td>0</td>\n",
       "      <td>1.08</td>\n",
       "      <td>21.386000</td>\n",
       "      <td>0.21386</td>\n",
       "      <td>1</td>\n",
       "      <td>3</td>\n",
       "      <td>0.75</td>\n",
       "    </tr>\n",
       "    <tr>\n",
       "      <th>3017</th>\n",
       "      <td>0</td>\n",
       "      <td>0.51</td>\n",
       "      <td>7.708000</td>\n",
       "      <td>0.07708</td>\n",
       "      <td>0</td>\n",
       "      <td>4</td>\n",
       "      <td>1.00</td>\n",
       "    </tr>\n",
       "    <tr>\n",
       "      <th>3018</th>\n",
       "      <td>0</td>\n",
       "      <td>0.64</td>\n",
       "      <td>22.841999</td>\n",
       "      <td>0.22842</td>\n",
       "      <td>0</td>\n",
       "      <td>3</td>\n",
       "      <td>0.75</td>\n",
       "    </tr>\n",
       "    <tr>\n",
       "      <th>3019</th>\n",
       "      <td>1</td>\n",
       "      <td>0.66</td>\n",
       "      <td>20.844000</td>\n",
       "      <td>0.20844</td>\n",
       "      <td>1</td>\n",
       "      <td>5</td>\n",
       "      <td>1.25</td>\n",
       "    </tr>\n",
       "  </tbody>\n",
       "</table>\n",
       "<p>3020 rows × 7 columns</p>\n",
       "</div>\n",
       "      <button class=\"colab-df-convert\" onclick=\"convertToInteractive('df-f774590c-4d6f-4f90-a802-9f529340352a')\"\n",
       "              title=\"Convert this dataframe to an interactive table.\"\n",
       "              style=\"display:none;\">\n",
       "\n",
       "  <svg xmlns=\"http://www.w3.org/2000/svg\" height=\"24px\"viewBox=\"0 0 24 24\"\n",
       "       width=\"24px\">\n",
       "    <path d=\"M0 0h24v24H0V0z\" fill=\"none\"/>\n",
       "    <path d=\"M18.56 5.44l.94 2.06.94-2.06 2.06-.94-2.06-.94-.94-2.06-.94 2.06-2.06.94zm-11 1L8.5 8.5l.94-2.06 2.06-.94-2.06-.94L8.5 2.5l-.94 2.06-2.06.94zm10 10l.94 2.06.94-2.06 2.06-.94-2.06-.94-.94-2.06-.94 2.06-2.06.94z\"/><path d=\"M17.41 7.96l-1.37-1.37c-.4-.4-.92-.59-1.43-.59-.52 0-1.04.2-1.43.59L10.3 9.45l-7.72 7.72c-.78.78-.78 2.05 0 2.83L4 21.41c.39.39.9.59 1.41.59.51 0 1.02-.2 1.41-.59l7.78-7.78 2.81-2.81c.8-.78.8-2.07 0-2.86zM5.41 20L4 18.59l7.72-7.72 1.47 1.35L5.41 20z\"/>\n",
       "  </svg>\n",
       "      </button>\n",
       "\n",
       "\n",
       "\n",
       "    <div id=\"df-f9a35714-c344-4a51-972c-cbb3b354716b\">\n",
       "      <button class=\"colab-df-quickchart\" onclick=\"quickchart('df-f9a35714-c344-4a51-972c-cbb3b354716b')\"\n",
       "              title=\"Suggest charts.\"\n",
       "              style=\"display:none;\">\n",
       "\n",
       "<svg xmlns=\"http://www.w3.org/2000/svg\" height=\"24px\"viewBox=\"0 0 24 24\"\n",
       "     width=\"24px\">\n",
       "    <g>\n",
       "        <path d=\"M19 3H5c-1.1 0-2 .9-2 2v14c0 1.1.9 2 2 2h14c1.1 0 2-.9 2-2V5c0-1.1-.9-2-2-2zM9 17H7v-7h2v7zm4 0h-2V7h2v10zm4 0h-2v-4h2v4z\"/>\n",
       "    </g>\n",
       "</svg>\n",
       "      </button>\n",
       "    </div>\n",
       "\n",
       "<style>\n",
       "  .colab-df-quickchart {\n",
       "    background-color: #E8F0FE;\n",
       "    border: none;\n",
       "    border-radius: 50%;\n",
       "    cursor: pointer;\n",
       "    display: none;\n",
       "    fill: #1967D2;\n",
       "    height: 32px;\n",
       "    padding: 0 0 0 0;\n",
       "    width: 32px;\n",
       "  }\n",
       "\n",
       "  .colab-df-quickchart:hover {\n",
       "    background-color: #E2EBFA;\n",
       "    box-shadow: 0px 1px 2px rgba(60, 64, 67, 0.3), 0px 1px 3px 1px rgba(60, 64, 67, 0.15);\n",
       "    fill: #174EA6;\n",
       "  }\n",
       "\n",
       "  [theme=dark] .colab-df-quickchart {\n",
       "    background-color: #3B4455;\n",
       "    fill: #D2E3FC;\n",
       "  }\n",
       "\n",
       "  [theme=dark] .colab-df-quickchart:hover {\n",
       "    background-color: #434B5C;\n",
       "    box-shadow: 0px 1px 3px 1px rgba(0, 0, 0, 0.15);\n",
       "    filter: drop-shadow(0px 1px 2px rgba(0, 0, 0, 0.3));\n",
       "    fill: #FFFFFF;\n",
       "  }\n",
       "</style>\n",
       "\n",
       "    <script>\n",
       "      async function quickchart(key) {\n",
       "        const containerElement = document.querySelector('#' + key);\n",
       "        const charts = await google.colab.kernel.invokeFunction(\n",
       "            'suggestCharts', [key], {});\n",
       "      }\n",
       "    </script>\n",
       "\n",
       "      <script>\n",
       "\n",
       "function displayQuickchartButton(domScope) {\n",
       "  let quickchartButtonEl =\n",
       "    domScope.querySelector('#df-f9a35714-c344-4a51-972c-cbb3b354716b button.colab-df-quickchart');\n",
       "  quickchartButtonEl.style.display =\n",
       "    google.colab.kernel.accessAllowed ? 'block' : 'none';\n",
       "}\n",
       "\n",
       "        displayQuickchartButton(document);\n",
       "      </script>\n",
       "      <style>\n",
       "    .colab-df-container {\n",
       "      display:flex;\n",
       "      flex-wrap:wrap;\n",
       "      gap: 12px;\n",
       "    }\n",
       "\n",
       "    .colab-df-convert {\n",
       "      background-color: #E8F0FE;\n",
       "      border: none;\n",
       "      border-radius: 50%;\n",
       "      cursor: pointer;\n",
       "      display: none;\n",
       "      fill: #1967D2;\n",
       "      height: 32px;\n",
       "      padding: 0 0 0 0;\n",
       "      width: 32px;\n",
       "    }\n",
       "\n",
       "    .colab-df-convert:hover {\n",
       "      background-color: #E2EBFA;\n",
       "      box-shadow: 0px 1px 2px rgba(60, 64, 67, 0.3), 0px 1px 3px 1px rgba(60, 64, 67, 0.15);\n",
       "      fill: #174EA6;\n",
       "    }\n",
       "\n",
       "    [theme=dark] .colab-df-convert {\n",
       "      background-color: #3B4455;\n",
       "      fill: #D2E3FC;\n",
       "    }\n",
       "\n",
       "    [theme=dark] .colab-df-convert:hover {\n",
       "      background-color: #434B5C;\n",
       "      box-shadow: 0px 1px 3px 1px rgba(0, 0, 0, 0.15);\n",
       "      filter: drop-shadow(0px 1px 2px rgba(0, 0, 0, 0.3));\n",
       "      fill: #FFFFFF;\n",
       "    }\n",
       "  </style>\n",
       "\n",
       "      <script>\n",
       "        const buttonEl =\n",
       "          document.querySelector('#df-f774590c-4d6f-4f90-a802-9f529340352a button.colab-df-convert');\n",
       "        buttonEl.style.display =\n",
       "          google.colab.kernel.accessAllowed ? 'block' : 'none';\n",
       "\n",
       "        async function convertToInteractive(key) {\n",
       "          const element = document.querySelector('#df-f774590c-4d6f-4f90-a802-9f529340352a');\n",
       "          const dataTable =\n",
       "            await google.colab.kernel.invokeFunction('convertToInteractive',\n",
       "                                                     [key], {});\n",
       "          if (!dataTable) return;\n",
       "\n",
       "          const docLinkHtml = 'Like what you see? Visit the ' +\n",
       "            '<a target=\"_blank\" href=https://colab.research.google.com/notebooks/data_table.ipynb>data table notebook</a>'\n",
       "            + ' to learn more about interactive tables.';\n",
       "          element.innerHTML = '';\n",
       "          dataTable['output_type'] = 'display_data';\n",
       "          await google.colab.output.renderOutput(dataTable, element);\n",
       "          const docLink = document.createElement('div');\n",
       "          docLink.innerHTML = docLinkHtml;\n",
       "          element.appendChild(docLink);\n",
       "        }\n",
       "      </script>\n",
       "    </div>\n",
       "  </div>\n"
      ],
      "text/plain": [
       "      switch  arsenic       dist  dist100  assoc  educ  educ4\n",
       "0          1     2.36  16.826000  0.16826      0     0   0.00\n",
       "1          1     0.71  47.321999  0.47322      0     0   0.00\n",
       "2          0     2.07  20.966999  0.20967      0    10   2.50\n",
       "3          1     1.15  21.486000  0.21486      0    12   3.00\n",
       "4          1     1.10  40.874001  0.40874      1    14   3.50\n",
       "...      ...      ...        ...      ...    ...   ...    ...\n",
       "3015       0     0.52  19.347000  0.19347      1     5   1.25\n",
       "3016       0     1.08  21.386000  0.21386      1     3   0.75\n",
       "3017       0     0.51   7.708000  0.07708      0     4   1.00\n",
       "3018       0     0.64  22.841999  0.22842      0     3   0.75\n",
       "3019       1     0.66  20.844000  0.20844      1     5   1.25\n",
       "\n",
       "[3020 rows x 7 columns]"
      ]
     },
     "metadata": {},
     "output_type": "display_data"
    }
   ],
   "source": [
    "data = pd.read_csv(\"https://raw.githubusercontent.com/avehtari/ROS-Examples/master/Arsenic/data/wells.csv\")\n",
    "display(data)"
   ]
  },
  {
   "cell_type": "markdown",
   "metadata": {
    "id": "YF7wRI7ikGnp"
   },
   "source": [
    "### Wells in Bangladesh\n",
    "\n",
    "- switch: does the household switch to a new well\n",
    "- arsenic: arsenic level of respondent's well\n",
    "- dist: distance (in meters) to the closest known safe well\n",
    "- assoc: whether any members of the household are active in community organizations\n",
    "- educ:  the education level of the head of household\n",
    "\n",
    "See [Chapter 13.7](https://users.aalto.fi/~ave/ROS.pdf) for more details."
   ]
  },
  {
   "cell_type": "code",
   "execution_count": null,
   "metadata": {
    "colab": {
     "base_uri": "https://localhost:8080/",
     "height": 468
    },
    "executionInfo": {
     "elapsed": 441,
     "status": "ok",
     "timestamp": 1690314466563,
     "user": {
      "displayName": "Sara Stoudt",
      "userId": "03438098334645453392"
     },
     "user_tz": 240
    },
    "id": "WXzNpFzlX5ST",
    "outputId": "b8645d9c-4856-49e0-f08f-7f5bbab06c33"
   },
   "outputs": [
    {
     "data": {
      "text/plain": [
       "<Axes: xlabel='switch', ylabel='arsenic'>"
      ]
     },
     "execution_count": 7,
     "metadata": {},
     "output_type": "execute_result"
    },
    {
     "data": {
      "image/png": "[encoded data removed]",
      "text/plain": [
       "<Figure size 640x480 with 1 Axes>"
      ]
     },
     "metadata": {},
     "output_type": "display_data"
    }
   ],
   "source": [
    "sns.boxplot(data = data,\n",
    "            x=\"switch\",\n",
    "            y=\"arsenic\")\n",
    "\n"
   ]
  },
  {
   "cell_type": "markdown",
   "metadata": {
    "id": "4V0VY_S3-N72"
   },
   "source": [
    "## Check your understanding\n",
    "\n",
    "What would this boxplot have to look like for you to be confident (not in the statistical sense) that arsenic is a good predictor of whether a household makes a well switch?"
   ]
  },
  {
   "cell_type": "code",
   "execution_count": null,
   "metadata": {
    "colab": {
     "base_uri": "https://localhost:8080/",
     "height": 449
    },
    "executionInfo": {
     "elapsed": 385,
     "status": "ok",
     "timestamp": 1690314469600,
     "user": {
      "displayName": "Sara Stoudt",
      "userId": "03438098334645453392"
     },
     "user_tz": 240
    },
    "id": "ieCjv4Nol9kF",
    "outputId": "a5b0b03d-f0bb-4df8-dfb6-e2d1dff3f4a6"
   },
   "outputs": [
    {
     "data": {
      "image/png": "[encoded data removed]",
      "text/plain": [
       "<Figure size 640x480 with 1 Axes>"
      ]
     },
     "metadata": {},
     "output_type": "display_data"
    }
   ],
   "source": [
    "sns.scatterplot(data=data,  x=\"arsenic\", y=\"switch\");"
   ]
  },
  {
   "cell_type": "markdown",
   "metadata": {
    "id": "4fc7390c"
   },
   "source": [
    "## Model with Logistic Regression\n",
    "\n",
    "We can fit the logistic regression model using:"
   ]
  },
  {
   "cell_type": "code",
   "execution_count": null,
   "metadata": {
    "colab": {
     "base_uri": "https://localhost:8080/"
    },
    "executionInfo": {
     "elapsed": 146,
     "status": "ok",
     "timestamp": 1690381423657,
     "user": {
      "displayName": "Sara Stoudt",
      "userId": "03438098334645453392"
     },
     "user_tz": 240
    },
    "id": "3eb51604",
    "outputId": "6b4dfd32-9f40-42f0-9d76-62a61ff7f891"
   },
   "outputs": [
    {
     "name": "stdout",
     "output_type": "stream",
     "text": [
      "Optimization terminated successfully.\n",
      "         Current function value: 0.663688\n",
      "         Iterations 5\n"
     ]
    },
    {
     "data": {
      "text/plain": [
       "Intercept   -0.305528\n",
       "arsenic      0.379135\n",
       "dtype: float64"
      ]
     },
     "execution_count": 10,
     "metadata": {},
     "output_type": "execute_result"
    }
   ],
   "source": [
    "import statsmodels.api as sm\n",
    "import statsmodels.formula.api as smf\n",
    "\n",
    "# Specify the desired model of y regressing onto x\n",
    "model_formula = smf.logit('switch ~ arsenic', data = data)\n",
    "\n",
    "# Fit the model to the data\n",
    "results = model_formula.fit()\n",
    "\n",
    "results.params"
   ]
  },
  {
   "cell_type": "code",
   "execution_count": null,
   "metadata": {
    "colab": {
     "base_uri": "https://localhost:8080/"
    },
    "executionInfo": {
     "elapsed": 173,
     "status": "ok",
     "timestamp": 1690381389562,
     "user": {
      "displayName": "Sara Stoudt",
      "userId": "03438098334645453392"
     },
     "user_tz": 240
    },
    "id": "b898fed5",
    "outputId": "4e79110e-b939-418a-d04c-d6ce0c24ca95"
   },
   "outputs": [
    {
     "name": "stdout",
     "output_type": "stream",
     "text": [
      "                           Logit Regression Results                           \n",
      "==============================================================================\n",
      "Dep. Variable:                 switch   No. Observations:                 3020\n",
      "Model:                          Logit   Df Residuals:                     3018\n",
      "Method:                           MLE   Df Model:                            1\n",
      "Date:                Wed, 26 Jul 2023   Pseudo R-squ.:                 0.02657\n",
      "Time:                        14:23:09   Log-Likelihood:                -2004.3\n",
      "converged:                       True   LL-Null:                       -2059.0\n",
      "Covariance Type:            nonrobust   LLR p-value:                 1.309e-25\n",
      "==============================================================================\n",
      "                 coef    std err          z      P>|z|      [0.025      0.975]\n",
      "------------------------------------------------------------------------------\n",
      "Intercept     -0.3055      0.070     -4.346      0.000      -0.443      -0.168\n",
      "arsenic        0.3791      0.039      9.840      0.000       0.304       0.455\n",
      "==============================================================================\n"
     ]
    }
   ],
   "source": [
    "# Obtain the model summary\n",
    "summary_model = results.summary()\n",
    "\n",
    "# Display output\n",
    "print(summary_model)"
   ]
  },
  {
   "cell_type": "markdown",
   "metadata": {
    "id": "OTNm_OgEl5c5"
   },
   "source": [
    "## Interpreting the model\n",
    "\n",
    "When trying to interpret the model, we opt to just use the odds. The odds are given by:\n",
    "  \n",
    "$$\n",
    "\\begin{align*}\n",
    "\\text{Odds} &= \\frac{{{\\pi _i}}}{{1 - {\\pi _i}}} \\\\\n",
    "&= \\frac{P(Success)}{P(Failure)} \\\\\n",
    "&= \\exp \\left( {{\\beta _0} + {\\beta _1}{x_{1i}} +  \\cdots  + {\\beta _n}{x_{pi}}} \\right)\n",
    "\\end{align*}\n",
    "$$\n",
    "\n",
    "Recall, we're using $\\pi_i$ to denote the probability for individual $i$, e.g. $p_i \\in (0,1)$.\n",
    "\n",
    "\n",
    "### Interpretation of the Odds\n",
    "\n",
    "> On average, for every one unit increase in $x _{ji}$ the odds is $exp\\left({\\beta _j}\\right)$ times larger.\n",
    "  \n",
    "This implies that we are describing:\n",
    "\n",
    "$$\\frac{{{\\pi _{i + 1}}/\\left( {1 - {\\pi _{i + 1}}} \\right)}}{{{\\pi _i}/\\left( {1 - {\\pi _i}} \\right)}} = \\exp \\left( \\beta _j  \\right)$$"
   ]
  },
  {
   "cell_type": "markdown",
   "metadata": {
    "id": "Xe0SITWel90k"
   },
   "source": [
    "### Interpreting Key for $\\beta$\n",
    "\n",
    "When interpreting $\\beta$ in Multiple Logistic Regression, we assume that other covariates are held constant when observing a specific $\\beta _j$.\n",
    "\n",
    "When $\\beta _j = 0$, the odds would be $\\exp\\left({0}\\right)=1$.\n",
    "$\\Rightarrow P\\left( {{Y} = 1} \\right)$ is the same at each level of $x _{ji}$.\n",
    "\n",
    "When $\\beta _j > 0$, the odds would be $1<\\exp\\left({\\beta}\\right)<\\infty$.\n",
    "$\\Rightarrow P\\left( {{Y} = 1} \\right)$ increases as $x _{ji}$ increases.\n",
    "\n",
    "When $\\beta _j < 0$, the odds would be $0<\\exp\\left({\\beta}\\right)<1$.\n",
    "$\\Rightarrow P\\left( {{Y} = 1} \\right)$ decreases as $x _{ji}$ increases.\n",
    "\n",
    "Note: $P\\left( {{Y} = 1} \\right)$ indicates the event occurred."
   ]
  },
  {
   "cell_type": "markdown",
   "metadata": {
    "id": "6b6d5b7b"
   },
   "source": [
    "## Making Predictions\n",
    "\n",
    "We can use a built-in prediction method to compute new model estimates."
   ]
  },
  {
   "cell_type": "code",
   "execution_count": null,
   "metadata": {
    "colab": {
     "base_uri": "https://localhost:8080/"
    },
    "executionInfo": {
     "elapsed": 133,
     "status": "ok",
     "timestamp": 1690381394812,
     "user": {
      "displayName": "Sara Stoudt",
      "userId": "03438098334645453392"
     },
     "user_tz": 240
    },
    "id": "41faf17e",
    "outputId": "76d3f925-014b-41a6-f173-7f4b6836f550"
   },
   "outputs": [
    {
     "data": {
      "text/plain": [
       "0    0.518393\n",
       "1    0.593129\n",
       "2    0.646662\n",
       "3    0.802276\n",
       "4    0.841038\n",
       "dtype: float64"
      ]
     },
     "execution_count": 8,
     "metadata": {},
     "output_type": "execute_result"
    }
   ],
   "source": [
    "# New observations\n",
    "new_data = {\"arsenic\": [1, 1.8, 2.4, 4.5, 5.2]}\n",
    "\n",
    "# Estimate the expected output\n",
    "y_predictions = results.predict(exog = new_data)\n",
    "y_predictions"
   ]
  },
  {
   "cell_type": "code",
   "execution_count": null,
   "metadata": {
    "colab": {
     "base_uri": "https://localhost:8080/",
     "height": 449
    },
    "executionInfo": {
     "elapsed": 412,
     "status": "ok",
     "timestamp": 1690381448895,
     "user": {
      "displayName": "Sara Stoudt",
      "userId": "03438098334645453392"
     },
     "user_tz": 240
    },
    "id": "cYIHrY5_kxEo",
    "outputId": "dbec1b22-9008-44da-e345-209456f3d393"
   },
   "outputs": [
    {
     "data": {
      "image/png": "[encoded data removed]",
      "text/plain": [
       "<Figure size 640x480 with 1 Axes>"
      ]
     },
     "metadata": {},
     "output_type": "display_data"
    }
   ],
   "source": [
    "# Plot raw data\n",
    "sns.scatterplot(x='arsenic', y='switch', data = data)\n",
    "\n",
    "# Make a grid of x values for plotting the curve\n",
    "xgrid = np.linspace(data['arsenic'].min(), data['arsenic'].max(), 100)\n",
    "\n",
    "# Compute odds over the grid\n",
    "ogrid = np.exp(results.params[0] + results.params[1]*xgrid)\n",
    "\n",
    "# Graph the probability curve\n",
    "plt.plot(xgrid, ogrid/(1+ogrid), color='r')\n",
    "plt.show()"
   ]
  },
  {
   "cell_type": "markdown",
   "metadata": {
    "id": "XU74NygdAyeT"
   },
   "source": [
    "## Check your understanding\n",
    "\n",
    "With respect to the fitted simple logistic regression model predicting whether a movie is declared \"good\" or not using it's length (time), which of the following will be true? You may choose more than one answer.\n",
    "\n",
    "(i) A plot of the predicted probability that the audience will think a movie is good (y-axis) vs.\n",
    "Time (x-axis) will have a logistic s-shape.\n",
    "\n",
    "(ii) A plot of the predicted probability that the audience will think a movie is good (y-axis) vs.\n",
    "Time (x-axis) will have an exponential shape.\n",
    "\n",
    "(iii) A plot of the predicted probability that the audience will think a movie is good (y-axis) vs.\n",
    "Time (x-axis) will have a linear shape.\n",
    "\n",
    "(iv) A plot of the predicted log-odds of the audience thinking that a movie is good (y-axis) vs.\n",
    "Time (x-axis) will have a logistic s-shape.\n",
    "\n",
    "(v) A plot of the predicted log-odds of the audience thinking that a movie is good (y-axis) vs.\n",
    "Time (x-axis) will have an exponential shape.\n",
    "\n",
    "(vi) A plot of the predicted log-odds of the audience thinking that a movie is good (y-axis) vs.\n",
    "Time (x-axis) will have a linear shape."
   ]
  },
  {
   "cell_type": "markdown",
   "metadata": {
    "id": "WzXDkkhBmI5A"
   },
   "source": [
    "### Multiple Logistic Regression\n",
    "\n"
   ]
  },
  {
   "cell_type": "code",
   "execution_count": null,
   "metadata": {
    "colab": {
     "base_uri": "https://localhost:8080/"
    },
    "executionInfo": {
     "elapsed": 161,
     "status": "ok",
     "timestamp": 1690381954080,
     "user": {
      "displayName": "Sara Stoudt",
      "userId": "03438098334645453392"
     },
     "user_tz": 240
    },
    "id": "kY3OSIYzmOyx",
    "outputId": "f75be637-da6e-4202-8cda-fdbde0ef197f"
   },
   "outputs": [
    {
     "name": "stdout",
     "output_type": "stream",
     "text": [
      "Optimization terminated successfully.\n",
      "         Current function value: 0.650773\n",
      "         Iterations 5\n"
     ]
    },
    {
     "data": {
      "text/plain": [
       "Intercept    0.002749\n",
       "arsenic      0.460775\n",
       "dist100     -0.896644\n",
       "dtype: float64"
      ]
     },
     "execution_count": 13,
     "metadata": {},
     "output_type": "execute_result"
    }
   ],
   "source": [
    "# Specify the desired model of y regressing onto x\n",
    "model_formula = smf.logit('switch ~ arsenic + dist100', data = data)\n",
    "\n",
    "# Fit the model to the data\n",
    "results = model_formula.fit()\n",
    "\n",
    "results.params"
   ]
  },
  {
   "cell_type": "code",
   "execution_count": null,
   "metadata": {
    "colab": {
     "base_uri": "https://localhost:8080/"
    },
    "executionInfo": {
     "elapsed": 155,
     "status": "ok",
     "timestamp": 1690381994515,
     "user": {
      "displayName": "Sara Stoudt",
      "userId": "03438098334645453392"
     },
     "user_tz": 240
    },
    "id": "T0jOzu-hneSs",
    "outputId": "7770c5b0-8a54-457c-8b44-6d3af1e94570"
   },
   "outputs": [
    {
     "name": "stdout",
     "output_type": "stream",
     "text": [
      "                           Logit Regression Results                           \n",
      "==============================================================================\n",
      "Dep. Variable:                 switch   No. Observations:                 3020\n",
      "Model:                          Logit   Df Residuals:                     3017\n",
      "Method:                           MLE   Df Model:                            2\n",
      "Date:                Wed, 26 Jul 2023   Pseudo R-squ.:                 0.04551\n",
      "Time:                        14:33:14   Log-Likelihood:                -1965.3\n",
      "converged:                       True   LL-Null:                       -2059.0\n",
      "Covariance Type:            nonrobust   LLR p-value:                 1.995e-41\n",
      "==============================================================================\n",
      "                 coef    std err          z      P>|z|      [0.025      0.975]\n",
      "------------------------------------------------------------------------------\n",
      "Intercept      0.0027      0.079      0.035      0.972      -0.153       0.158\n",
      "arsenic        0.4608      0.041     11.134      0.000       0.380       0.542\n",
      "dist100       -0.8966      0.104     -8.593      0.000      -1.101      -0.692\n",
      "==============================================================================\n"
     ]
    }
   ],
   "source": [
    "# Obtain the model summary\n",
    "summary_model = results.summary()\n",
    "\n",
    "# Display output\n",
    "print(summary_model)"
   ]
  },
  {
   "cell_type": "markdown",
   "metadata": {
    "id": "Lnw-dGNG-sy2"
   },
   "source": [
    "## Check your understanding\n",
    "\n",
    "Suppose it is known that this data comes from households who received a discount on their water bill for sharing their data. What assumption of logistic regression might you be worried about and why? Explain in a sentence or two.\n"
   ]
  },
  {
   "cell_type": "markdown",
   "metadata": {
    "id": "43714736"
   },
   "source": [
    "## Your Turn: Challenger o-ring data\n",
    "\n",
    "On January 28, 1986, the NASA space shuttle orbiter Challenger broke apart 73 seconds into its flight causing all crew members aboard to parish. The total failure of the challenger vehicle was the result of the failure of O-Ring seals at liftoff. This event became known as **Space Shuttle Challenger disaster** and was studied continuously.\n",
    "\n",
    "When the challenger space shuttle was launched, the temperature was colder than expected causing the O-Ring seal to fail. In the following weeks, NASA sought to then test the reliability of the O-Ring under different temperature conditions. The data collected is as-follows:"
   ]
  },
  {
   "cell_type": "code",
   "execution_count": null,
   "metadata": {
    "id": "cb82b353"
   },
   "outputs": [],
   "source": [
    "oring = [1,1,1,0,0,0,0,0,0,0,0,1,1,1,0,0,0,1,0,0,0,0,0,0]\n",
    "temperature = [53, 56, 57, 63, 66, 67, 67, 67, 68, 69, 70, 70, 70, 70, 72, 73, 75, 75, 76, 76, 78, 79, 80, 81]"
   ]
  },
  {
   "cell_type": "markdown",
   "metadata": {
    "id": "70d7f096"
   },
   "source": [
    "**Note:** This data was available prior to the fateful launch of Challenger; however, there was a convincing argument made using the data to postpone or cancel the launch."
   ]
  },
  {
   "cell_type": "markdown",
   "metadata": {
    "id": "14b827fc"
   },
   "source": [
    "## a: Data Set Import\n",
    "\n",
    "Please construct a pandas data frame called `challenger` using the two variables `oring` and `temperature` given above."
   ]
  },
  {
   "cell_type": "code",
   "execution_count": null,
   "metadata": {
    "id": "9ae783c0"
   },
   "outputs": [],
   "source": []
  },
  {
   "cell_type": "markdown",
   "metadata": {
    "id": "3f9a261e"
   },
   "source": [
    "Obtain the frequency counts for the input data."
   ]
  },
  {
   "cell_type": "code",
   "execution_count": null,
   "metadata": {
    "id": "8bffc30f"
   },
   "outputs": [],
   "source": []
  },
  {
   "cell_type": "markdown",
   "metadata": {
    "id": "19c519aa"
   },
   "source": [
    "## b: Fit Simple Logistic Regression\n",
    "\n",
    "With the `challenger` data frame, please fit a simple logistic regression such that would regress `oring` onto `temperature`."
   ]
  },
  {
   "cell_type": "markdown",
   "metadata": {
    "id": "b776ea7d"
   },
   "source": [
    "Write down the model formula."
   ]
  },
  {
   "cell_type": "markdown",
   "metadata": {
    "id": "49dffd76"
   },
   "source": [
    "---\n",
    "\n",
    "answer\n",
    "\n",
    "---"
   ]
  },
  {
   "cell_type": "markdown",
   "metadata": {
    "id": "c1969513"
   },
   "source": [
    "With the model formula written, let's use statsmodels to fit the data."
   ]
  },
  {
   "cell_type": "code",
   "execution_count": null,
   "metadata": {
    "id": "cff6fdbb"
   },
   "outputs": [],
   "source": []
  },
  {
   "cell_type": "markdown",
   "metadata": {
    "id": "909b54e6"
   },
   "source": [
    "Obtain the model summary information."
   ]
  },
  {
   "cell_type": "code",
   "execution_count": null,
   "metadata": {
    "id": "c7b46d5f"
   },
   "outputs": [],
   "source": []
  },
  {
   "cell_type": "markdown",
   "metadata": {
    "id": "b4f48dbb"
   },
   "source": [
    "## c. Interpret the $\\beta$ coefficient\n",
    "\n",
    "---\n",
    "\n",
    "answer\n",
    "\n",
    "---\n"
   ]
  },
  {
   "cell_type": "markdown",
   "metadata": {
    "id": "39238399"
   },
   "source": [
    "## d: Perform a Hypothesis Test\n",
    "\n",
    "Using information from the challenger model summary, please perform a two-sided hypothesis test for the $\\beta_1$ parameter.\n",
    "\n",
    "$$\n",
    "\\begin{align*}\n",
    "H_0: \\beta_1 = 0\\\\\n",
    "H_A: \\beta_1 \\neq 0\\\\\n",
    "\\end{align*}\n",
    "$$"
   ]
  },
  {
   "cell_type": "code",
   "execution_count": null,
   "metadata": {
    "id": "c74dbeb0"
   },
   "outputs": [],
   "source": []
  },
  {
   "cell_type": "markdown",
   "metadata": {
    "id": "6a518b20"
   },
   "source": [
    "What was the conclusion from the hypothesis test? Did you reject the null hypothesis?"
   ]
  },
  {
   "cell_type": "markdown",
   "metadata": {
    "id": "9e9467f0"
   },
   "source": [
    "## e. Obtain a prediction\n",
    "\n",
    "On the day of the Challenger launch, the outside air was $\\text{temperature} = 31$ degrees Fahrenheit. Using the model we have created, obtain a prediction."
   ]
  },
  {
   "cell_type": "code",
   "execution_count": null,
   "metadata": {
    "id": "3203ea27"
   },
   "outputs": [],
   "source": []
  },
  {
   "cell_type": "markdown",
   "metadata": {
    "id": "bc0343e1"
   },
   "source": [
    "What would happen if NASA waited to launch challenger until the temperature was at 51 degrees Farhenheit?"
   ]
  },
  {
   "cell_type": "markdown",
   "metadata": {
    "id": "264dfdf4"
   },
   "source": [
    "---\n",
    "\n",
    "answer\n",
    "\n",
    "---"
   ]
  },
  {
   "cell_type": "markdown",
   "metadata": {
    "id": "43a4c102"
   },
   "source": [
    "# Your Turn: Credit Default\n",
    "\n",
    "Let's take a look at some credit card default data available on the UCI Irvine Repository.\n",
    "\n",
    "<https://archive.ics.uci.edu/ml/datasets/default+of+credit+card+clients>\n",
    "\n",
    "There are 30000 observations and 25 variables:\n",
    "\n",
    "- ID: ID of each client\n",
    "- LIMIT_BAL: Amount of given credit in NT dollars (includes individual and family/supplementary credit\n",
    "- SEX: Gender (1=male, 2=female)\n",
    "- EDUCATION: (1=graduate school, 2=university, 3=high school, 4=others, - 5=unknown, 6=unknown)\n",
    "- MARRIAGE: Marital status (1=married, 2=single, 3=others)\n",
    "- AGE: Age in years\n",
    "- PAY_0: Repayment status in September, 2005\n",
    " (-1=pay duly, 1=payment delay for - one month, 2=payment delay for two months, … 8=payment delay for eight months, 9=payment delay for nine months and above)\n",
    "- PAY_2: Repayment status in August, 2005 (scale same as above)\n",
    "- PAY_3: Repayment status in July, 2005 (scale same as above)\n",
    "- PAY_4: Repayment status in June, 2005 (scale same as above)\n",
    "- PAY_5: Repayment status in May, 2005 (scale same as above)\n",
    "- PAY_6: Repayment status in April, 2005 (scale same as above)\n",
    "- BILL_AMT1: Amount of bill statement in September, 2005 (NT dollar)\n",
    "- BILL_AMT2: Amount of bill statement in August, 2005 (NT dollar)\n",
    "- BILL_AMT3: Amount of bill statement in July, 2005 (NT dollar)\n",
    "- BILL_AMT4: Amount of bill statement in June, 2005 (NT dollar)\n",
    "- BILL_AMT5: Amount of bill statement in May, 2005 (NT dollar)\n",
    "- BILL_AMT6: Amount of bill statement in April, 2005 (NT dollar)\n",
    "- PAY_AMT1: Amount of previous payment in September, 2005 (NT dollar)\n",
    "- PAY_AMT2: Amount of previous payment in August, 2005 (NT dollar)\n",
    "- PAY_AMT3: Amount of previous payment in July, 2005 (NT dollar)\n",
    "- PAY_AMT4: Amount of previous payment in June, 2005 (NT dollar)\n",
    "- PAY_AMT5: Amount of previous payment in May, 2005 (NT dollar)\n",
    "- PAY_AMT6: Amount of previous payment in April, 2005 (NT dollar)\n",
    "- default.payment.next.month: Default payment (1=yes, 0=no)"
   ]
  },
  {
   "cell_type": "markdown",
   "metadata": {
    "id": "4b3d4bb0"
   },
   "source": [
    "## a: Import data set\n",
    "\n",
    "Please import the data set from:\n",
    "\n",
    "<https://raw.githubusercontent.com/inmas-training/fa21-statistical-methods-workshop/main/data/UCI_Credit_Card.csv>"
   ]
  },
  {
   "cell_type": "code",
   "execution_count": null,
   "metadata": {
    "id": "06d89f76"
   },
   "outputs": [],
   "source": []
  },
  {
   "cell_type": "markdown",
   "metadata": {
    "id": "aedd54a1"
   },
   "source": [
    "## b: Verify the data\n",
    "\n",
    "Please verify the data has been imported correcting by looking at data attributes and checking the start and end of the data frame."
   ]
  },
  {
   "cell_type": "code",
   "execution_count": null,
   "metadata": {
    "id": "f62176a3"
   },
   "outputs": [],
   "source": []
  },
  {
   "cell_type": "markdown",
   "metadata": {
    "id": "3d72557a"
   },
   "source": [
    "## c: Explore the Data\n",
    "\n",
    "Make a few different graphs using seabon on variables that you find interesting."
   ]
  },
  {
   "cell_type": "code",
   "execution_count": null,
   "metadata": {
    "id": "3a3e73c1"
   },
   "outputs": [],
   "source": []
  },
  {
   "cell_type": "markdown",
   "metadata": {
    "id": "2e32fda9"
   },
   "source": [
    "## d: Construct a model\n",
    "\n",
    "Next, let's construct a model on `default.payment.next.month ~ LIMIT_BAL + EDUCATION + SEX`.\n",
    "\n",
    "When a variable has periods, we need to \"quote\" it using `Q(\"\")`, e.g. `Q(\"default.payment.next.month\")`'"
   ]
  },
  {
   "cell_type": "code",
   "execution_count": null,
   "metadata": {
    "id": "6b2d560d"
   },
   "outputs": [],
   "source": []
  },
  {
   "cell_type": "markdown",
   "metadata": {
    "id": "3f25409f"
   },
   "source": [
    "Are all the parameter coefficients in the model significant according to the hypothesis testing?"
   ]
  },
  {
   "cell_type": "markdown",
   "metadata": {
    "id": "bfbeeb0f"
   },
   "source": [
    "---\n",
    "\n",
    "answer\n",
    "\n",
    "---"
   ]
  },
  {
   "cell_type": "markdown",
   "metadata": {
    "id": "19d3f425"
   },
   "source": [
    "Refit a model using only coefficients found to be signficant."
   ]
  },
  {
   "cell_type": "code",
   "execution_count": null,
   "metadata": {
    "id": "38f32717"
   },
   "outputs": [],
   "source": []
  },
  {
   "cell_type": "markdown",
   "metadata": {
    "id": "6802ab9c"
   },
   "source": [
    "Please interpret each parameter of the new model. Recall, we hold other parameters constant when we are trying to interpret."
   ]
  },
  {
   "cell_type": "markdown",
   "metadata": {
    "id": "e24eddbb"
   },
   "source": [
    "---\n",
    "\n",
    "answer\n",
    "\n",
    "---"
   ]
  },
  {
   "cell_type": "markdown",
   "metadata": {
    "id": "3f38dfc1"
   },
   "source": [
    "## e: Construct your own model!\n",
    "\n",
    "Explore crafting your own model on the credit data."
   ]
  },
  {
   "cell_type": "code",
   "execution_count": null,
   "metadata": {
    "id": "8c679564"
   },
   "outputs": [],
   "source": []
  },
  {
   "cell_type": "code",
   "execution_count": null,
   "metadata": {
    "id": "89a69567"
   },
   "outputs": [],
   "source": []
  }
 ],
 "metadata": {
  "colab": {
   "authorship_tag": "ABX9TyN+2qBtEMzJz0aIU27apQnQ",
   "provenance": []
  },
  "kernelspec": {
   "display_name": "Python 3 (ipykernel)",
   "language": "python",
   "name": "python3"
  },
  "language_info": {
   "codemirror_mode": {
    "name": "ipython",
    "version": 3
   },
   "file_extension": ".py",
   "mimetype": "text/x-python",
   "name": "python",
   "nbconvert_exporter": "python",
   "pygments_lexer": "ipython3",
   "version": "3.11.4"
  }
 },
 "nbformat": 4,
 "nbformat_minor": 1
}
