{
 "cells": [
  {
   "cell_type": "code",
   "execution_count": 1,
   "id": "df6aae02",
   "metadata": {},
   "outputs": [],
   "source": [
    "import numpy as np\n",
    "\n",
    "# Generating random data for the polynomial\n",
    "np.random.seed(0)\n",
    "X = np.linspace(-5, 5, 100)\n",
    "y = 2.5 * X**3 - 1.5 * X**2 + 3 * X + 5 + np.random.normal(0, 9, 100)\n"
   ]
  },
  {
   "cell_type": "code",
   "execution_count": null,
   "id": "bc210a1a",
   "metadata": {},
   "outputs": [],
   "source": []
  }
 ],
 "metadata": {
  "kernelspec": {
   "display_name": "Python 3 (ipykernel)",
   "language": "python",
   "name": "python3"
  },
  "language_info": {
   "codemirror_mode": {
    "name": "ipython",
    "version": 3
   },
   "file_extension": ".py",
   "mimetype": "text/x-python",
   "name": "python",
   "nbconvert_exporter": "python",
   "pygments_lexer": "ipython3",
   "version": "3.8.3"
  }
 },
 "nbformat": 4,
 "nbformat_minor": 5
}
