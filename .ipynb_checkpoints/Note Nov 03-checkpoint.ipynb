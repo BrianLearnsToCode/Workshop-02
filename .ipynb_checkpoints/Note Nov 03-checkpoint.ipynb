{
 "cells": [
  {
   "cell_type": "markdown",
   "id": "98d1aaa0",
   "metadata": {},
   "source": [
    "Confidence Interval's confidence\n",
    "is the probability that the procedure is correct."
   ]
  },
  {
   "cell_type": "markdown",
   "id": "bfaad4d2",
   "metadata": {},
   "source": [
    "what is the confidence interval for unknown sigma?  Can we still interpret confidence the same way?"
   ]
  },
  {
   "cell_type": "markdown",
   "id": "6438f52b",
   "metadata": {},
   "source": [
    "What happened in the one-sided case not including all cases"
   ]
  },
  {
   "cell_type": "markdown",
   "id": "bb59a1c5",
   "metadata": {},
   "source": [
    "how to sample a sample with a desired size? Is it binomial or uniformly?"
   ]
  },
  {
   "cell_type": "code",
   "execution_count": null,
   "id": "ae3fa7d5",
   "metadata": {},
   "outputs": [],
   "source": [
    "std derivation of sample / standard error of mean"
   ]
  },
  {
   "cell_type": "code",
   "execution_count": null,
   "id": "392734c2",
   "metadata": {},
   "outputs": [],
   "source": [
    "kurt skew"
   ]
  },
  {
   "cell_type": "markdown",
   "id": "5157335f",
   "metadata": {},
   "source": [
    "difference between at and loc"
   ]
  },
  {
   "cell_type": "markdown",
   "id": "73f5391e",
   "metadata": {},
   "source": [
    "define a dataframe\n"
   ]
  },
  {
   "cell_type": "markdown",
   "id": "e7e8a833",
   "metadata": {},
   "source": [
    "\n",
    "does sort preserve order"
   ]
  },
  {
   "cell_type": "markdown",
   "id": "413acf8a",
   "metadata": {},
   "source": []
  },
  {
   "cell_type": "markdown",
   "id": "630882a9",
   "metadata": {},
   "source": [
    "# Linear Regression"
   ]
  },
  {
   "cell_type": "markdown",
   "id": "5e4e78c2",
   "metadata": {},
   "source": [
    "strenght of the parttern\n",
    "\n",
    "we will not know the real parameters\n",
    "datas are assumed to be sampled from the model\n",
    "X are considered as explanatary variables, \n",
    "only Y is random\n",
    "\n",
    "if model is trivial, then estimator of intercept is just point estimator of the mean, reduced to point estimation\n",
    "\n"
   ]
  },
  {
   "cell_type": "markdown",
   "id": "a239ce4b",
   "metadata": {},
   "source": [
    "-- E(Y|x) = X beta   x is a... hmmmm "
   ]
  },
  {
   "cell_type": "markdown",
   "id": "757daae2",
   "metadata": {},
   "source": []
  }
 ],
 "metadata": {
  "kernelspec": {
   "display_name": "Python 3 (ipykernel)",
   "language": "python",
   "name": "python3"
  },
  "language_info": {
   "codemirror_mode": {
    "name": "ipython",
    "version": 3
   },
   "file_extension": ".py",
   "mimetype": "text/x-python",
   "name": "python",
   "nbconvert_exporter": "python",
   "pygments_lexer": "ipython3",
   "version": "3.8.3"
  }
 },
 "nbformat": 4,
 "nbformat_minor": 5
}
