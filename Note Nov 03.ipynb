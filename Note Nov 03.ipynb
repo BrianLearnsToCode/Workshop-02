{
 "cells": [
  {
   "cell_type": "markdown",
   "id": "98d1aaa0",
   "metadata": {},
   "source": [
    "Confidence Interval's confidence\n",
    "is the probability that the procedure is correct."
   ]
  },
  {
   "cell_type": "markdown",
   "id": "6438f52b",
   "metadata": {},
   "source": [
    "What happened in the one-sided case not including all cases"
   ]
  }
 ],
 "metadata": {
  "kernelspec": {
   "display_name": "Python 3 (ipykernel)",
   "language": "python",
   "name": "python3"
  },
  "language_info": {
   "codemirror_mode": {
    "name": "ipython",
    "version": 3
   },
   "file_extension": ".py",
   "mimetype": "text/x-python",
   "name": "python",
   "nbconvert_exporter": "python",
   "pygments_lexer": "ipython3",
   "version": "3.8.3"
  }
 },
 "nbformat": 4,
 "nbformat_minor": 5
}
